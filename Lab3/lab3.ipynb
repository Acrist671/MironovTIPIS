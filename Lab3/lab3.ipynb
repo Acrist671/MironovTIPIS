{
 "cells": [
  {
   "metadata": {},
   "cell_type": "markdown",
   "source": "Импорт библиотек для анализа данных",
   "id": "e0a0ed34a86ac8a9"
  },
  {
   "cell_type": "code",
   "id": "initial_id",
   "metadata": {
    "collapsed": true,
    "ExecuteTime": {
     "end_time": "2025-10-23T14:42:02.559243Z",
     "start_time": "2025-10-23T14:42:02.555234Z"
    }
   },
   "source": [
    "import warnings\n",
    "warnings.filterwarnings(\"ignore\")\n",
    "import pandas as pd\n",
    "from sklearn.model_selection import train_test_split\n",
    "from sklearn.metrics import r2_score, mean_squared_error\n",
    "from catboost import CatBoostRegressor, Pool, cv"
   ],
   "outputs": [],
   "execution_count": 50
  },
  {
   "metadata": {},
   "cell_type": "markdown",
   "source": "Загрузка датасета и просмотр первых строк",
   "id": "d9d81da342daa661"
  },
  {
   "metadata": {
    "ExecuteTime": {
     "end_time": "2025-10-23T14:42:02.619309Z",
     "start_time": "2025-10-23T14:42:02.569108Z"
    }
   },
   "cell_type": "code",
   "source": [
    "df_train = pd.read_csv(\"diamonds_train.csv\")\n",
    "print(\"Первые 5 строк обучающего датасета:\")\n",
    "print(df_train.head())"
   ],
   "id": "49a2bcf742168793",
   "outputs": [
    {
     "name": "stdout",
     "output_type": "stream",
     "text": [
      "Первые 5 строк обучающего датасета:\n",
      "   carat        cut color clarity  depth  table  price     x     y     z\n",
      "0   0.51       Good     D     SI2   63.9   55.0   1180  5.04  5.10  3.24\n",
      "1   0.72      Ideal     E     VS2   60.8   57.0   3091  5.79  5.82  3.53\n",
      "2   0.70  Very Good     D    VVS2   62.8   60.0   4022  5.65  5.69  3.56\n",
      "3   0.36      Ideal     D     SI1   61.2   57.0    663  4.59  4.63  2.82\n",
      "4   0.54  Very Good     D     SI1   60.0   59.8   1593  5.30  5.34  3.18\n"
     ]
    }
   ],
   "execution_count": 51
  },
  {
   "metadata": {},
   "cell_type": "markdown",
   "source": "Вывод информации о датасете",
   "id": "d6aed064d3d4b3e5"
  },
  {
   "metadata": {
    "ExecuteTime": {
     "end_time": "2025-10-23T14:42:02.641289Z",
     "start_time": "2025-10-23T14:42:02.625887Z"
    }
   },
   "cell_type": "code",
   "source": [
    "print(\"\\nИнформация о датасете:\")\n",
    "df_train.info()"
   ],
   "id": "96f8d02bcaff2b51",
   "outputs": [
    {
     "name": "stdout",
     "output_type": "stream",
     "text": [
      "\n",
      "Информация о датасете:\n",
      "<class 'pandas.core.frame.DataFrame'>\n",
      "RangeIndex: 43018 entries, 0 to 43017\n",
      "Data columns (total 10 columns):\n",
      " #   Column   Non-Null Count  Dtype  \n",
      "---  ------   --------------  -----  \n",
      " 0   carat    43018 non-null  float64\n",
      " 1   cut      43018 non-null  object \n",
      " 2   color    43018 non-null  object \n",
      " 3   clarity  43018 non-null  object \n",
      " 4   depth    43018 non-null  float64\n",
      " 5   table    43018 non-null  float64\n",
      " 6   price    43018 non-null  int64  \n",
      " 7   x        43018 non-null  float64\n",
      " 8   y        43018 non-null  float64\n",
      " 9   z        43018 non-null  float64\n",
      "dtypes: float64(6), int64(1), object(3)\n",
      "memory usage: 3.3+ MB\n"
     ]
    }
   ],
   "execution_count": 52
  },
  {
   "metadata": {},
   "cell_type": "markdown",
   "source": "Выделение целевой переменной",
   "id": "c09a4c20455e3092"
  },
  {
   "metadata": {
    "ExecuteTime": {
     "end_time": "2025-10-23T14:42:02.657894Z",
     "start_time": "2025-10-23T14:42:02.646269Z"
    }
   },
   "cell_type": "code",
   "source": [
    "x = df_train.drop(\"price\", axis=1)\n",
    "y = df_train[\"price\"]"
   ],
   "id": "e52eeabcb6c982d7",
   "outputs": [],
   "execution_count": 53
  },
  {
   "metadata": {},
   "cell_type": "markdown",
   "source": "Задание категориальных признаков",
   "id": "9e3421ab4b7ff72e"
  },
  {
   "metadata": {
    "ExecuteTime": {
     "end_time": "2025-10-23T14:42:02.673633Z",
     "start_time": "2025-10-23T14:42:02.664448Z"
    }
   },
   "cell_type": "code",
   "source": [
    "catboost_features = x.select_dtypes(include=\"object\").columns.tolist()\n",
    "print(f\"\\nКатегориальные признаки: {catboost_features}\")"
   ],
   "id": "bffc8e6651914e66",
   "outputs": [
    {
     "name": "stdout",
     "output_type": "stream",
     "text": [
      "\n",
      "Категориальные признаки: ['cut', 'color', 'clarity']\n"
     ]
    }
   ],
   "execution_count": 54
  },
  {
   "metadata": {},
   "cell_type": "markdown",
   "source": "Деление датасета на обучающий и валидационный",
   "id": "1788153b7c55ddc5"
  },
  {
   "metadata": {
    "ExecuteTime": {
     "end_time": "2025-10-23T14:42:02.703407Z",
     "start_time": "2025-10-23T14:42:02.686840Z"
    }
   },
   "cell_type": "code",
   "source": [
    "x_split, x_val, y_split, y_val = train_test_split(\n",
    "    x, y, test_size=0.15, random_state=42, shuffle=True\n",
    ")\n",
    "print(f\"\\nРазмеры после разделения:\")\n",
    "print(f\"x_split: {x_split.shape}\")\n",
    "print(f\"x_val: {x_val.shape}\")\n",
    "print(f\"y_split: {y_split.shape}\")\n",
    "print(f\"y_val: {y_val.shape}\")"
   ],
   "id": "42d5d8d1cc56910e",
   "outputs": [
    {
     "name": "stdout",
     "output_type": "stream",
     "text": [
      "\n",
      "Размеры после разделения:\n",
      "x_split: (36565, 9)\n",
      "x_val: (6453, 9)\n",
      "y_split: (36565,)\n",
      "y_val: (6453,)\n"
     ]
    }
   ],
   "execution_count": 55
  },
  {
   "metadata": {},
   "cell_type": "markdown",
   "source": "Задание параметров обучения",
   "id": "144579a07f881348"
  },
  {
   "metadata": {
    "ExecuteTime": {
     "end_time": "2025-10-23T14:42:02.713640Z",
     "start_time": "2025-10-23T14:42:02.709978Z"
    }
   },
   "cell_type": "code",
   "source": [
    "params = {\n",
    "    \"iterations\": 1000,\n",
    "    \"learning_rate\": 0.05,\n",
    "    \"depth\": 6,\n",
    "    \"l2_leaf_reg\": 5,\n",
    "    \"loss_function\": \"RMSE\",\n",
    "    \"eval_metric\": \"R2\",\n",
    "    \"random_seed\": 42,\n",
    "    \"verbose\": 0,\n",
    "    \"thread_count\": 4\n",
    "}"
   ],
   "id": "a5866eaa3e4e7539",
   "outputs": [],
   "execution_count": 56
  },
  {
   "metadata": {},
   "cell_type": "markdown",
   "source": "Проведение кросс-валидации на 5-ти фолдах",
   "id": "37d79d50d99e9bdb"
  },
  {
   "metadata": {
    "ExecuteTime": {
     "end_time": "2025-10-23T14:45:09.617967Z",
     "start_time": "2025-10-23T14:42:02.725483Z"
    }
   },
   "cell_type": "code",
   "source": [
    "print(\"\\nКросс-валидация (5 фолдов):\")\n",
    "\n",
    "train_pool = Pool(x, y, cat_features=cat_features)\n",
    "\n",
    "cv_results = cv(\n",
    "    params=params,\n",
    "    pool=train_pool,\n",
    "    fold_count=5,\n",
    "    shuffle=True,\n",
    "    seed=42,\n",
    "    plot=False\n",
    ")"
   ],
   "id": "fec5724d79d2e588",
   "outputs": [
    {
     "name": "stdout",
     "output_type": "stream",
     "text": [
      "\n",
      "Кросс-валидация (5 фолдов):\n",
      "Training on fold [0/5]\n",
      "\n",
      "bestTest = 0.9822647465\n",
      "bestIteration = 999\n",
      "\n",
      "Training on fold [1/5]\n",
      "\n",
      "bestTest = 0.9823393866\n",
      "bestIteration = 970\n",
      "\n",
      "Training on fold [2/5]\n",
      "\n",
      "bestTest = 0.982245403\n",
      "bestIteration = 999\n",
      "\n",
      "Training on fold [3/5]\n",
      "\n",
      "bestTest = 0.9823999549\n",
      "bestIteration = 997\n",
      "\n",
      "Training on fold [4/5]\n",
      "\n",
      "bestTest = 0.9811557622\n",
      "bestIteration = 999\n",
      "\n"
     ]
    }
   ],
   "execution_count": 57
  },
  {
   "metadata": {
    "ExecuteTime": {
     "end_time": "2025-10-23T14:45:09.787184Z",
     "start_time": "2025-10-23T14:45:09.780794Z"
    }
   },
   "cell_type": "code",
   "source": [
    "print(\"Результаты кросс-валидации:\")\n",
    "print(f\"Средний R²: {cv_results['test-R2-mean'].max():.4f}\")"
   ],
   "id": "a475dbc2dcefdd80",
   "outputs": [
    {
     "name": "stdout",
     "output_type": "stream",
     "text": [
      "Результаты кросс-валидации:\n",
      "Средний R²: 0.9821\n"
     ]
    }
   ],
   "execution_count": 58
  },
  {
   "metadata": {},
   "cell_type": "markdown",
   "source": "Получаем значение лучшей итерации и коэффициента детерминации, выводим",
   "id": "8435aeba7e16ba43"
  },
  {
   "metadata": {
    "ExecuteTime": {
     "end_time": "2025-10-23T14:45:50.208993Z",
     "start_time": "2025-10-23T14:45:50.203707Z"
    }
   },
   "cell_type": "code",
   "source": [
    "best_iter_idx = cv_results[\"test-R2-mean\"].idxmax()\n",
    "best_r2 = cv_results.loc[best_iter_idx, \"test-R2-mean\"]\n",
    "best_iteration = int(cv_results.loc[best_iter_idx, \"iterations\"])\n",
    "\n",
    "print(f\"\\nЛучшая R²: {best_r2:.4f}\")\n",
    "print(f\"Лучшая итерация: {best_iteration}\")"
   ],
   "id": "60481bd5145167eb",
   "outputs": [
    {
     "name": "stdout",
     "output_type": "stream",
     "text": [
      "\n",
      "Лучшая R²: 0.9821\n",
      "Лучшая итерация: 999\n"
     ]
    }
   ],
   "execution_count": 59
  },
  {
   "metadata": {},
   "cell_type": "markdown",
   "source": "Обучаем модель с учетом кросс-валидации",
   "id": "751e9206343ea804"
  },
  {
   "metadata": {
    "ExecuteTime": {
     "end_time": "2025-10-23T14:46:18.793543Z",
     "start_time": "2025-10-23T14:46:18.784485Z"
    }
   },
   "cell_type": "code",
   "source": [
    "final_model = CatBoostRegressor(\n",
    "    iterations=best_iteration,\n",
    "    learning_rate=params[\"learning_rate\"],\n",
    "    depth=params[\"depth\"],\n",
    "    loss_function=params[\"loss_function\"],\n",
    "    eval_metric=params[\"eval_metric\"],\n",
    "    random_seed=params[\"random_seed\"],\n",
    "    verbose=200,\n",
    "    cat_features=cat_features\n",
    ")"
   ],
   "id": "2d78ea9f7b30464",
   "outputs": [],
   "execution_count": 60
  },
  {
   "metadata": {},
   "cell_type": "markdown",
   "source": "получаем значения итоговой модели и выводим",
   "id": "ef0551535912e5d"
  },
  {
   "metadata": {
    "ExecuteTime": {
     "end_time": "2025-10-23T14:49:38.955632Z",
     "start_time": "2025-10-23T14:49:12.917513Z"
    }
   },
   "cell_type": "code",
   "source": [
    "final_model.fit(x_split, y_split)\n",
    "\n",
    "y_val_pred = final_model.predict(x_val)\n",
    "\n",
    "val_r2 = r2_score(y_val, y_val_pred)\n",
    "val_rmse = mean_squared_error(y_val, y_val_pred)\n",
    "\n",
    "print(f\"\\nРезультаты на валидационной выборке:\")\n",
    "print(f\"R²: {val_r2:.4f}\")\n",
    "print(f\"RMSE: {val_rmse:,.2f}\")"
   ],
   "id": "b1c85bb515b79fa0",
   "outputs": [
    {
     "name": "stdout",
     "output_type": "stream",
     "text": [
      "0:\tlearn: 0.0832326\ttotal: 26.4ms\tremaining: 26.3s\n",
      "200:\tlearn: 0.9791279\ttotal: 5.11s\tremaining: 20.3s\n",
      "400:\tlearn: 0.9819831\ttotal: 10.1s\tremaining: 15.1s\n",
      "600:\tlearn: 0.9836089\ttotal: 15.2s\tremaining: 10.1s\n",
      "800:\tlearn: 0.9847433\ttotal: 20.4s\tremaining: 5.05s\n",
      "998:\tlearn: 0.9856539\ttotal: 25.9s\tremaining: 0us\n",
      "\n",
      "Результаты на валидационной выборке:\n",
      "R²: 0.9820\n",
      "RMSE: 290,459.80\n"
     ]
    }
   ],
   "execution_count": 63
  },
  {
   "metadata": {},
   "cell_type": "markdown",
   "source": "Сохраняем модель",
   "id": "201b87f7538f7751"
  },
  {
   "metadata": {
    "ExecuteTime": {
     "end_time": "2025-10-23T14:51:58.714301Z",
     "start_time": "2025-10-23T14:51:58.703011Z"
    }
   },
   "cell_type": "code",
   "source": [
    "import joblib\n",
    "\n",
    "joblib.dump(final_model, \"final_model.pkl\")"
   ],
   "id": "cf24a56bbb54231d",
   "outputs": [
    {
     "data": {
      "text/plain": [
       "['final_model.pkl']"
      ]
     },
     "execution_count": 66,
     "metadata": {},
     "output_type": "execute_result"
    }
   ],
   "execution_count": 66
  },
  {
   "metadata": {},
   "cell_type": "markdown",
   "source": "Загружаем тестовый датасет и модель при надобности",
   "id": "859c1359958594dd"
  },
  {
   "metadata": {
    "ExecuteTime": {
     "end_time": "2025-10-23T15:00:57.205632Z",
     "start_time": "2025-10-23T15:00:57.162335Z"
    }
   },
   "cell_type": "code",
   "source": [
    "df_test = pd.read_csv(\"diamonds_test.csv\")\n",
    "\n",
    "# final_model = joblib.load(\"final_model.pkl\")"
   ],
   "id": "2e633c1234bfe39a",
   "outputs": [],
   "execution_count": 67
  },
  {
   "metadata": {},
   "cell_type": "markdown",
   "source": "Выводим первые значения датасета",
   "id": "90ae5d53b5466685"
  },
  {
   "metadata": {
    "ExecuteTime": {
     "end_time": "2025-10-23T15:01:32.182667Z",
     "start_time": "2025-10-23T15:01:32.170335Z"
    }
   },
   "cell_type": "code",
   "source": [
    "print(\"diamonds_test.csv\")\n",
    "df_test.head()"
   ],
   "id": "9fcefc284d15bbcc",
   "outputs": [
    {
     "name": "stdout",
     "output_type": "stream",
     "text": [
      "diamonds_test.csv\n"
     ]
    },
    {
     "data": {
      "text/plain": [
       "   id  carat        cut color clarity  depth  table     x     y     z\n",
       "0   0   1.02       Good     F     SI2   59.2   58.0  6.51  6.56  3.87\n",
       "1   1   0.70  Very Good     I    VVS1   59.5   58.0  5.78  5.81  3.45\n",
       "2   2   0.32  Very Good     H    VVS2   63.4   56.0  4.37  4.34  2.76\n",
       "3   3   0.42      Ideal     F    VVS2   62.2   56.0  4.79  4.82  2.99\n",
       "4   4   0.40      Ideal     F     VS2   62.3   54.0  4.74  4.77  2.96"
      ],
      "text/html": [
       "<div>\n",
       "<style scoped>\n",
       "    .dataframe tbody tr th:only-of-type {\n",
       "        vertical-align: middle;\n",
       "    }\n",
       "\n",
       "    .dataframe tbody tr th {\n",
       "        vertical-align: top;\n",
       "    }\n",
       "\n",
       "    .dataframe thead th {\n",
       "        text-align: right;\n",
       "    }\n",
       "</style>\n",
       "<table border=\"1\" class=\"dataframe\">\n",
       "  <thead>\n",
       "    <tr style=\"text-align: right;\">\n",
       "      <th></th>\n",
       "      <th>id</th>\n",
       "      <th>carat</th>\n",
       "      <th>cut</th>\n",
       "      <th>color</th>\n",
       "      <th>clarity</th>\n",
       "      <th>depth</th>\n",
       "      <th>table</th>\n",
       "      <th>x</th>\n",
       "      <th>y</th>\n",
       "      <th>z</th>\n",
       "    </tr>\n",
       "  </thead>\n",
       "  <tbody>\n",
       "    <tr>\n",
       "      <th>0</th>\n",
       "      <td>0</td>\n",
       "      <td>1.02</td>\n",
       "      <td>Good</td>\n",
       "      <td>F</td>\n",
       "      <td>SI2</td>\n",
       "      <td>59.2</td>\n",
       "      <td>58.0</td>\n",
       "      <td>6.51</td>\n",
       "      <td>6.56</td>\n",
       "      <td>3.87</td>\n",
       "    </tr>\n",
       "    <tr>\n",
       "      <th>1</th>\n",
       "      <td>1</td>\n",
       "      <td>0.70</td>\n",
       "      <td>Very Good</td>\n",
       "      <td>I</td>\n",
       "      <td>VVS1</td>\n",
       "      <td>59.5</td>\n",
       "      <td>58.0</td>\n",
       "      <td>5.78</td>\n",
       "      <td>5.81</td>\n",
       "      <td>3.45</td>\n",
       "    </tr>\n",
       "    <tr>\n",
       "      <th>2</th>\n",
       "      <td>2</td>\n",
       "      <td>0.32</td>\n",
       "      <td>Very Good</td>\n",
       "      <td>H</td>\n",
       "      <td>VVS2</td>\n",
       "      <td>63.4</td>\n",
       "      <td>56.0</td>\n",
       "      <td>4.37</td>\n",
       "      <td>4.34</td>\n",
       "      <td>2.76</td>\n",
       "    </tr>\n",
       "    <tr>\n",
       "      <th>3</th>\n",
       "      <td>3</td>\n",
       "      <td>0.42</td>\n",
       "      <td>Ideal</td>\n",
       "      <td>F</td>\n",
       "      <td>VVS2</td>\n",
       "      <td>62.2</td>\n",
       "      <td>56.0</td>\n",
       "      <td>4.79</td>\n",
       "      <td>4.82</td>\n",
       "      <td>2.99</td>\n",
       "    </tr>\n",
       "    <tr>\n",
       "      <th>4</th>\n",
       "      <td>4</td>\n",
       "      <td>0.40</td>\n",
       "      <td>Ideal</td>\n",
       "      <td>F</td>\n",
       "      <td>VS2</td>\n",
       "      <td>62.3</td>\n",
       "      <td>54.0</td>\n",
       "      <td>4.74</td>\n",
       "      <td>4.77</td>\n",
       "      <td>2.96</td>\n",
       "    </tr>\n",
       "  </tbody>\n",
       "</table>\n",
       "</div>"
      ]
     },
     "execution_count": 68,
     "metadata": {},
     "output_type": "execute_result"
    }
   ],
   "execution_count": 68
  },
  {
   "metadata": {},
   "cell_type": "markdown",
   "source": "Получаем информацию о датасете",
   "id": "fe60b54d59bec41"
  },
  {
   "metadata": {
    "ExecuteTime": {
     "end_time": "2025-10-23T15:01:49.822236Z",
     "start_time": "2025-10-23T15:01:49.815529Z"
    }
   },
   "cell_type": "code",
   "source": [
    "print(\"Информация о датасете: \")\n",
    "df_test.info()"
   ],
   "id": "6461feca68e73692",
   "outputs": [
    {
     "name": "stdout",
     "output_type": "stream",
     "text": [
      "Информация о датасете: \n",
      "<class 'pandas.core.frame.DataFrame'>\n",
      "RangeIndex: 5379 entries, 0 to 5378\n",
      "Data columns (total 10 columns):\n",
      " #   Column   Non-Null Count  Dtype  \n",
      "---  ------   --------------  -----  \n",
      " 0   id       5379 non-null   int64  \n",
      " 1   carat    5379 non-null   float64\n",
      " 2   cut      5379 non-null   object \n",
      " 3   color    5379 non-null   object \n",
      " 4   clarity  5379 non-null   object \n",
      " 5   depth    5379 non-null   float64\n",
      " 6   table    5379 non-null   float64\n",
      " 7   x        5379 non-null   float64\n",
      " 8   y        5379 non-null   float64\n",
      " 9   z        5379 non-null   float64\n",
      "dtypes: float64(6), int64(1), object(3)\n",
      "memory usage: 420.4+ KB\n"
     ]
    }
   ],
   "execution_count": 69
  },
  {
   "metadata": {},
   "cell_type": "markdown",
   "source": "подготавливаем колонки, которые использовались в обучении",
   "id": "62e9f66a44807f55"
  },
  {
   "metadata": {
    "ExecuteTime": {
     "end_time": "2025-10-23T15:03:18.237312Z",
     "start_time": "2025-10-23T15:03:18.233481Z"
    }
   },
   "cell_type": "code",
   "source": "x_test = df_test[x.columns]",
   "id": "839c1a645478209b",
   "outputs": [],
   "execution_count": 70
  },
  {
   "metadata": {},
   "cell_type": "markdown",
   "source": "Получем предсказания значений цены в датасете",
   "id": "57fc21d92e7e9c9f"
  },
  {
   "metadata": {
    "ExecuteTime": {
     "end_time": "2025-10-23T15:03:55.004841Z",
     "start_time": "2025-10-23T15:03:54.992722Z"
    }
   },
   "cell_type": "code",
   "source": [
    "print(\"Предсказание на тестовом датасете...\")\n",
    "y_test_pred = final_model.predict(x_test)"
   ],
   "id": "4062266facb26472",
   "outputs": [
    {
     "name": "stdout",
     "output_type": "stream",
     "text": [
      "Предсказание на тестовом датасете...\n"
     ]
    }
   ],
   "execution_count": 72
  },
  {
   "metadata": {},
   "cell_type": "markdown",
   "source": "Сохраняем предсказания",
   "id": "1cc3782098f0d8d0"
  },
  {
   "metadata": {
    "ExecuteTime": {
     "end_time": "2025-10-23T15:04:39.430220Z",
     "start_time": "2025-10-23T15:04:39.416593Z"
    }
   },
   "cell_type": "code",
   "source": [
    "submission = pd.DataFrame({\n",
    "    \"id\": df_test[\"id\"],\n",
    "    \"price\": y_test_pred\n",
    "})\n",
    "\n",
    "submission.to_csv(\"submission.csv\", index=False)\n",
    "print(\"\\nФайл 'submission.csv' успешно сохранен!\")"
   ],
   "id": "62ee45d43a1a2a89",
   "outputs": [
    {
     "name": "stdout",
     "output_type": "stream",
     "text": [
      "\n",
      "Файл 'submission.csv' успешно сохранен!\n"
     ]
    }
   ],
   "execution_count": 73
  },
  {
   "metadata": {},
   "cell_type": "markdown",
   "source": "Смотрим статистику датасета",
   "id": "f3f6c8acdc3f1ea4"
  },
  {
   "metadata": {
    "ExecuteTime": {
     "end_time": "2025-10-23T15:05:52.223193Z",
     "start_time": "2025-10-23T15:05:52.217613Z"
    }
   },
   "cell_type": "code",
   "source": [
    "print(f\"\\nСтатистика предсказаний:\")\n",
    "print(f\"Количество предсказаний: {len(y_test_pred)}\")\n",
    "print(f\"Минимальная цена: {y_test_pred.min():.2f}\")\n",
    "print(f\"Максимальная цена: {y_test_pred.max():.2f}\")\n",
    "print(f\"Средняя цена: {y_test_pred.mean():.2f}\")\n",
    "print(f\"Медианная цена: {pd.Series(y_test_pred).median():.2f}\")"
   ],
   "id": "4d46ace408f54449",
   "outputs": [
    {
     "name": "stdout",
     "output_type": "stream",
     "text": [
      "\n",
      "Статистика предсказаний:\n",
      "Количество предсказаний: 5379\n",
      "Минимальная цена: 256.38\n",
      "Максимальная цена: 18361.66\n",
      "Средняя цена: 3934.49\n",
      "Медианная цена: 2434.86\n"
     ]
    }
   ],
   "execution_count": 74
  }
 ],
 "metadata": {
  "kernelspec": {
   "display_name": "Python 3",
   "language": "python",
   "name": "python3"
  },
  "language_info": {
   "codemirror_mode": {
    "name": "ipython",
    "version": 2
   },
   "file_extension": ".py",
   "mimetype": "text/x-python",
   "name": "python",
   "nbconvert_exporter": "python",
   "pygments_lexer": "ipython2",
   "version": "2.7.6"
  }
 },
 "nbformat": 4,
 "nbformat_minor": 5
}
